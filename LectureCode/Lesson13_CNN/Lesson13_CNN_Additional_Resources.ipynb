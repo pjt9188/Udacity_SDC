{
 "cells": [
  {
   "cell_type": "markdown",
   "metadata": {},
   "source": [
    "## Additional Resources\n",
    "There are many wonderful free resources that allow you to go into more depth around Convolutional Neural Networks. In this course, our goal is to give you just enough intuition to start applying this concept on real world problems so you have enough of an exposure to explore more on your own. We strongly encourage you to explore some of these resources more to reinforce your intuition and explore different ideas.\n",
    "\n",
    "These are the resources we recommend in particular:\n",
    "\n",
    "- Andrej Karpathy's [CS231n Stanford course](https://cs231n.github.io/) on Convolutional Neural Networks.\n",
    "- Michael Nielsen's [free book](http://neuralnetworksanddeeplearning.com/) on Deep Learning.\n",
    "- Goodfellow, Bengio, and Courville's more advanced [free book](http://www.deeplearningbook.org/) on Deep Learning."
   ]
  }
 ],
 "metadata": {
  "kernelspec": {
   "display_name": "Python 3",
   "language": "python",
   "name": "python3"
  },
  "language_info": {
   "codemirror_mode": {
    "name": "ipython",
    "version": 3
   },
   "file_extension": ".py",
   "mimetype": "text/x-python",
   "name": "python",
   "nbconvert_exporter": "python",
   "pygments_lexer": "ipython3",
   "version": "3.7.7"
  }
 },
 "nbformat": 4,
 "nbformat_minor": 4
}
