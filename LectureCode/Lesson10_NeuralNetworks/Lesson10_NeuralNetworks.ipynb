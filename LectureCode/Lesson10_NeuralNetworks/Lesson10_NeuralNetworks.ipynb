{
 "cells": [
  {
   "cell_type": "markdown",
   "metadata": {},
   "source": [
    "# Lesson 10 Neural Networks"
   ]
  },
  {
   "cell_type": "markdown",
   "metadata": {},
   "source": [
    "## Linear to Logistic Regression\n",
    "\n",
    "Linear regression helps predict values on a continuous spectrum, like predicting what the price of a house will be.\n",
    "\n",
    "How about classifying data among discrete classes?\n",
    "\n",
    "Here are examples of classification tasks:\n",
    "\n",
    "- Determining whether a patient has cancer\n",
    "- Identifying the species of a fish\n",
    "- Figuring out who's talking on a conference call\n",
    "\n",
    "Classification problems are important for self-driving cars. Self-driving cars might need to classify whether an object crossing the road is a car, pedestrian, and a bicycle. Or they might need to identify which type of traffic sign is coming up, or what a stop light is indicating.\n",
    "\n",
    "In the next video, Luis will demonstrate a classification algorithm called \"logistic regression\". He'll use logistic regression to predict whether a student will be accepted to a university.\n",
    "\n",
    "Linear regression leads to logistic regression and ultimately neural networks, a more advanced classification tool."
   ]
  },
  {
   "cell_type": "markdown",
   "metadata": {},
   "source": [
    "## Classification Problems\n",
    "We'll start by defining what we mean by classification problems, and applying it to a simple example \"Acceptance at a University\"."
   ]
  },
  {
   "cell_type": "markdown",
   "metadata": {},
   "source": [
    "## Perceptron\n",
    "![Perceptron](https://video.udacity-data.com/topher/2017/February/58a49d8a_hq-perceptron/hq-perceptron.png)\n",
    "\n",
    "Now you've seen how a simple neural network makes decisions: by taking in input data, processing that information, and finally, producing an output in the form of a decision! Let's take a deeper dive into the university admission example to learn more about processing the input data.\n",
    "\n",
    "Data, like test scores and grades, are fed into a network of interconnected nodes. These individual nodes are called **'Perceptrons'**, or **'Artificial Neurons'**, and they are the basic unit of a neural network. Each one looks at input data and decides how to categorize that data. In the example above, the input either passes a threshold for grades and test scores or doesn't, and so the two categories are: yes (passed the threshold) and no (didn't pass the threshold). These categories then combine to form a decision -- for example, if both nodes produce a \"yes\" output, then this student gains admission into the university.\n",
    "\n",
    "![Single Perceptron](https://video.udacity-data.com/topher/2017/February/58a49d9f_hq-new-plot-perceptron-combine-v2/hq-new-plot-perceptron-combine-v2.png)\n",
    "\n",
    "Let's zoom in even further and look at how a single perceptron processes input data.\n",
    "\n",
    "The perceptron above is one of the two perceptrons from the video that help determine whether or not a student is accepted to a university. It decides whether a student's grades are high enough to be accepted to the university. You might be wondering: \"How does it know whether grades or test scores are more important in making this acceptance decision?\" Well, when we initialize a neural network, we don't know what information will be most important in making a decision. It's up to the neural network to learn for itself which data is most important and adjust how it considers that data.\n",
    "\n",
    "It does this with something called **'Weights'**."
   ]
  },
  {
   "cell_type": "markdown",
   "metadata": {},
   "source": [
    "### Weights\n",
    "\n",
    "When input comes into a perceptron, it gets multiplied by a weight value that is assigned to this particular input. For example, the perceptron above has two inputs, `tests` for test scores and `grades`, so it has two associated weights that can be adjusted individually. These weights start out as random values, and as the neural network network learns more about what kind of input data leads to a student being accepted into a university, the network adjusts the weights based on any errors in categorization that results from the previous weights. This is called training the neural network.\n",
    "\n",
    "A higher weight means the neural network considers that input more important than other inputs, and lower weight means that the data is considered less important. An extreme example would be if test scores had no affect at all on university acceptance; then the weight of the test score input would be zero and it would have no affect on the output of the perceptron."
   ]
  },
  {
   "cell_type": "markdown",
   "metadata": {},
   "source": [
    "### Summing the Input Data\n",
    "\n",
    "Each input to a perceptron has an associated weight that represents its importance. These weights are determined during the learning process of a neural network, called training. In the next step, the weighted input data are summed to produce a single value, that will help determine the final output - whether a student is accepted to a university or not. Let's see a concrete example of this.\n",
    "\n",
    "![Network](https://video.udacity-data.com/topher/2017/February/5894d4d5_perceptron-graphics.001/perceptron-graphics.001.jpeg)\n",
    "<center>We weight `x_test` by `w_test` and add it to `x_grades` weighted by `w_grades`.</center>\n",
    "\n",
    "When writing equations related to neural networks, the weights will always be represented by some type of the letter **w**. It will usually look like a $W$ when it represents a matrix of weights or a $w$ when it represents an individual weight, and it may include some additional information in the form of a subscript to specify which weights (you'll see more on that next). But remember, when you see the letter**w**, think **weights**.\n",
    "\n",
    "In this example, we'll use $w_{grades_{}}$ for the weight of grades and $w_{test}$ for the weight of test.\n",
    "\n",
    "For the image above, let's say that the weights are: $w_{grades} = -1$, $w_{test} = -0.2$. You don't have to be concerned with the actual values, but their relative values are important. $w_{grades_{}}$ is 5 times larger than $w_{test}$, which means the neural network considers grades input 5 times more important than test in determining whether a student will be accepted into a university.\n",
    "\n",
    "The perceptron applies these weights to the inputs and sums them in a process known as linear combination. In our case, this looks like $w_{grades} \\cdot x_{grades} + w_{test} \\cdot x_{test} = -1 \\cdot x_{grades} - 0.2 \\cdot x_{test}$\n",
    "\n",
    "Now, to make our equation less wordy, let's replace the explicit names with numbers. Let's use $1$ for $grades$ and $2$ for $tests$. So now our equation becomes\n",
    "$w_{1} \\cdot x_{1} + w_{2} \\cdot x_{2}w $\n",
    "\n",
    "In this example, we just have 2 simple inputs: grades and tests. Let's imagine we instead had `m` different inputs and we labeled them $x_1, x_2, ..., x_mx$. Let's also say that the weight corresponding to $x_1$ is $w_1$ and so on. In that case, we would express the linear combination succintly as:   \n",
    "$\\sum_{i=1}^m w_i \\cdot x_i$\n",
    "\n",
    "Here, the Greek letter Sigma $\\sum$ is used to represent summation. It simply means to evaluate the equation to the right multiple times and add up the results. In this case, the equation it will sum is $w_i \\cdot x_i$\n",
    "\n",
    "But where do we get $w_i$ and $x_i$?\n",
    "\n",
    "$\\sum_{i=1}^m$ means to iterate overa all $i$values, from 1 to m.\n",
    "\n",
    "So to put it all together, $\\sum{i=1}^m w_i \\cdot x_i$ means the followings:\n",
    "- Start at $i = 1$\n",
    "- Evaluate $w_1 \\cdot x_1$ and remember the results\n",
    "- Move to $i = 2$\n",
    "- Evaluate $w_2 \\cdot x_2$\n",
    "- Continue repeating that process until i = mi=m, where mm is the number of inputs.\n",
    "\n",
    "One last thing: you'll see equations written many different ways, both here and when reading on your own. For example, you will often just see $\\sum_{i_{}}$ instead of $\\sum_{i=1} ^ m$. The first is simply a shorter way of writing the second. That is, if you see a summation without a starting number or a defined end value, it just means perform the sum for all of the them. And sometimes, if the value to iterate over can be inferred, you'll see it as just $\\sum$\\. Just remember they're all the same thing:   \n",
    "$\\sum_{i=1} ^ m w_i \\cdot x_i = \\sum_{i} w_i \\cdot x_i = \\sum w_i \\cdot x_i$"
   ]
  },
  {
   "cell_type": "markdown",
   "metadata": {},
   "source": [
    "### Calculating the Output with an Activation Function\n",
    "\n",
    "Finally, the result of the perceptron's summation is turned into an output signal! This is done by feeding the linear combination into an **activation function**.\n",
    "\n",
    "Activation functions are functions that decide, given the inputs into the node, what should be the node's output? Because it's the activation function that decides the actual output, we often refer to the outputs of a layer as its \"activations\".\n",
    "\n",
    "One of the simplest activation functions is the **Heaviside step function**. This function returns a 0 if the linear combination is less than 0. It returns a 1 if the linear combination is positive or equal to zero. The [Heaviside step function](https://en.wikipedia.org/wiki/Heaviside_step_function) is shown below, where h is the calculated linear combination:   \n",
    "![Heavyside step function graph](https://video.udacity-data.com/topher/2017/February/589cf7dd_heaviside-step-graph-2/heaviside-step-graph-2.png)     \n",
    "$$ f(n)=\n",
    "\\begin{cases}\n",
    "0, & \\mbox{if }h<\\mbox{0} \\\\\n",
    "3n+1, & \\mbox{if }n\\ge\\mbox{0}\n",
    "\\end{cases}$$   \n",
    "<center>[The Heaviside Step Function]</center>\n",
    "\n",
    "In the university acceptance example above, we used the weights $w_{grades} = -1, w_{test} = -0.2$ are negative values, the activation function will only return a $1$ if grades and test are $0$! This is because the range of values from the linear combination using these weights and inputs are $(-\\infty, 0]$ (i.e. negative infinity to 0, including 0 itself).\n",
    "\n",
    "It's easiest to see this with an example in two dimensions. In the following graph, imagine any points along the line or in the shaded area represent all the possible inputs to our node. Also imagine that the value along the y-axis is the result of performing the linear combination on these inputs and the appropriate weights. It's this result that gets passed to the activation function.\n",
    "\n",
    "Now remember that the step activation function returns $1$ for any inputs greater than or equal to zero. As you can see in the image, only one point has a y-value greater than or equal to zero – the point right at the origin, $(0, 0)$:\n",
    "\n",
    "![](https://video.udacity-data.com/topher/2017/February/589d2f7e_example-before-bias/example-before-bias.png)\n",
    "\n",
    "Now, we certainly want more than one possible grade/test combination to result in acceptance, so we need to adjust the results passed to our activation function so it activates – that is, returns $1$ – for more inputs. Specifically, we need to find a way so all the scores we’d like to consider acceptable for admissions produce values greater than or equal to zero when linearly combined with the weights into our node.\n",
    "\n",
    "One way to get our function to return 11 for more inputs is to add a value to the results of our linear combination, called a **bias**.\n",
    "\n",
    "A bias, represented in equations as $b$, lets us move values in one direction or another.\n",
    "\n",
    "For example, the following diagram shows the previous hypothetical function with an added bias of $+3$. The blue shaded area shows all the values that now activate the function. But notice that these are produced with the same inputs as the values shown shaded in grey – just adjusted higher by adding the bias term:\n",
    "![](https://video.udacity-data.com/topher/2017/February/589d3055_example-after-bias/example-after-bias.png)\n",
    "\n",
    "Of course, with neural networks we won't know in advance what values to pick for biases. That’s ok, because just like the weights, the bias can also be updated and changed by the neural network during training. So after adding a bias, we now have a complete perceptron formula:\n",
    "$$ f(x_1, x_2, ..., x_m)=\n",
    "\\begin{cases}\n",
    "0, & \\mbox{if}b+\\sum w_i \\cdot x_i < \\mbox{0} \\\\\n",
    "1, & \\mbox{if}b+\\sum w_i \\cdot x_i \\ge \\mbox{0} \\\\\n",
    "\\end{cases}$$   \n",
    "<center>[Perceptron Formula]</center>\n",
    "\n",
    "This formula returns $1$ if the input ($x_1, x_2, ..., x_m$) belongs to the accepted-to-university category or returns 00 if it doesn't. The input is made up of one or more real numbers, each one represented by $x_i$ where $m$ is the number of inputs.\n",
    "\n",
    "Then the neural network starts to learn! Initially, the weights ($w_i$) and bias($b$) are assigned a random value, and then they are updated using a learning algorithm like gradient descent. The weights and biases change so that the next training example is more accurately categorized, and patterns in data are \"learned\" by the neural network.\n",
    "\n",
    "Now that you have a good understanding of perceptrons, let's put that knowledge to use. In the next section, you'll create the AND perceptron from the Neural Networks video by setting the values for weights and bias."
   ]
  },
  {
   "cell_type": "markdown",
   "metadata": {},
   "source": [
    "### Perceptrons as Logical Operators\n",
    "In this lesson, we'll see one of the many great applications of perceptrons. As logical operators! You'll have the chance to create the perceptrons for the most common of these, the AND, OR, and NOT operators. And then, we'll see what to do about the elusive XOR operator. Let's dive in!\n",
    "\n",
    "#### AND Perceptron\n",
    "Note: The second and third rows of the third column from 1:50-onward should be blue in color (they have the correct value of 1) for the OR perceptron.\n",
    "![](https://video.udacity-data.com/topher/2017/May/5912bf0e_and-quiz/and-quiz.png)\n",
    "\n",
    "- What are the weights and bias for the AND perceptron?   \n",
    "    Set the weights (`weight1`, `weight2`) and bias (`bias`) to values that will correctly determine the AND operation as shown above.\n",
    "\n",
    "More than one set of values will work!"
   ]
  },
  {
   "cell_type": "code",
   "execution_count": 6,
   "metadata": {},
   "outputs": [
    {
     "name": "stdout",
     "output_type": "stream",
     "text": [
      "Nice!  You got it all correct.\n",
      "\n",
      " Input 1    Input 2    Linear Combination    Activation Output   Is Correct\n",
      "       0          0                  -1.0                    0          Yes\n",
      "       0          1                  -0.3                    0          Yes\n",
      "       1          0                  -0.3                    0          Yes\n",
      "       1          1                   0.4                    1          Yes\n"
     ]
    }
   ],
   "source": [
    "## AND operator example\n",
    "import pandas as pd\n",
    "\n",
    "# TODO: Set weight1, weight2, and bias\n",
    "weight1 = 0.7\n",
    "weight2 = 0.7\n",
    "bias = -1\n",
    "\n",
    "\n",
    "# DON'T CHANGE ANYTHING BELOW\n",
    "# Inputs and outputs\n",
    "test_inputs = [(0, 0), (0, 1), (1, 0), (1, 1)]\n",
    "correct_outputs = [False, False, False, True]\n",
    "outputs = []\n",
    "\n",
    "# Generate and check output\n",
    "for test_input, correct_output in zip(test_inputs, correct_outputs):\n",
    "    linear_combination = weight1 * test_input[0] + weight2 * test_input[1] + bias\n",
    "    output = int(linear_combination >= 0)\n",
    "    is_correct_string = 'Yes' if output == correct_output else 'No'\n",
    "    outputs.append([test_input[0], test_input[1], linear_combination, output, is_correct_string])\n",
    "\n",
    "# Print output\n",
    "num_wrong = len([output[4] for output in outputs if output[4] == 'No'])\n",
    "output_frame = pd.DataFrame(outputs, columns=['Input 1', '  Input 2', '  Linear Combination', '  Activation Output', '  Is Correct'])\n",
    "if not num_wrong:\n",
    "    print('Nice!  You got it all correct.\\n')\n",
    "else:\n",
    "    print('You got {} wrong.  Keep trying!\\n'.format(num_wrong))\n",
    "print(output_frame.to_string(index=False))"
   ]
  },
  {
   "cell_type": "markdown",
   "metadata": {},
   "source": [
    "#### OR Perceptron\n",
    "![](https://video.udacity-data.com/topher/2017/May/5912c102_or-quiz/or-quiz.png)\n",
    "The OR perceptron is very similar to an AND perceptron. In the image below, the OR perceptron has the same line as the AND perceptron, except the line is shifted down. What can you do to the weights and/or bias to achieve this? Use the following AND perceptron to create an OR Perceptron.\n",
    "![](https://video.udacity-data.com/topher/2017/May/5912c232_and-to-or/and-to-or.png)\n",
    "\n",
    "- Two ways to go from an AND perceptron to an OR perceptron?\n",
    "    - Increase the weights\n",
    "    - Increase the bias"
   ]
  },
  {
   "cell_type": "code",
   "execution_count": 10,
   "metadata": {},
   "outputs": [
    {
     "name": "stdout",
     "output_type": "stream",
     "text": [
      "Nice!  You got it all correct.\n",
      "\n",
      " Input 1    Input 2    Linear Combination    Activation Output   Is Correct\n",
      "       0          0                  -0.5                    0          Yes\n",
      "       0          1                   0.2                    1          Yes\n",
      "       1          0                   0.2                    1          Yes\n",
      "       1          1                   0.9                    1          Yes\n"
     ]
    }
   ],
   "source": [
    "import pandas as pd\n",
    "\n",
    "# TODO: Set weight1, weight2, and bias\n",
    "weight1 = 0.7\n",
    "weight2 = 0.7\n",
    "bias = -0.5\n",
    "\n",
    "\n",
    "# DON'T CHANGE ANYTHING BELOW\n",
    "# Inputs and outputs\n",
    "test_inputs = [(0, 0), (0, 1), (1, 0), (1, 1)]\n",
    "correct_outputs = [False, True, True, True]\n",
    "outputs = []\n",
    "\n",
    "# Generate and check output\n",
    "for test_input, correct_output in zip(test_inputs, correct_outputs):\n",
    "    linear_combination = weight1 * test_input[0] + weight2 * test_input[1] + bias\n",
    "    output = int(linear_combination >= 0)\n",
    "    is_correct_string = 'Yes' if output == correct_output else 'No'\n",
    "    outputs.append([test_input[0], test_input[1], linear_combination, output, is_correct_string])\n",
    "\n",
    "# Print output\n",
    "num_wrong = len([output[4] for output in outputs if output[4] == 'No'])\n",
    "output_frame = pd.DataFrame(outputs, columns=['Input 1', '  Input 2', '  Linear Combination', '  Activation Output', '  Is Correct'])\n",
    "if not num_wrong:\n",
    "    print('Nice!  You got it all correct.\\n')\n",
    "else:\n",
    "    print('You got {} wrong.  Keep trying!\\n'.format(num_wrong))\n",
    "print(output_frame.to_string(index=False))"
   ]
  },
  {
   "cell_type": "markdown",
   "metadata": {},
   "source": [
    "#### NOT Perceptron\n",
    "Unlike the other perceptrons we looked at, the NOT operation only cares about one input. The operation returns a `0` if the input is `1` and a `1` if it's a `0`. The other inputs to the perceptron are ignored.\n",
    "\n",
    "In this quiz, you'll set the weights (`weight1`, `weight2`) and bias `bias` to the values that calculate the NOT operation on the second input and ignores the first input."
   ]
  },
  {
   "cell_type": "code",
   "execution_count": 13,
   "metadata": {},
   "outputs": [
    {
     "name": "stdout",
     "output_type": "stream",
     "text": [
      "Nice!  You got it all correct.\n",
      "\n",
      " Input 1    Input 2    Linear Combination    Activation Output   Is Correct\n",
      "       0          0                   0.5                    1          Yes\n",
      "       0          1                  -0.5                    0          Yes\n",
      "       1          0                   0.5                    1          Yes\n",
      "       1          1                  -0.5                    0          Yes\n"
     ]
    }
   ],
   "source": [
    "import pandas as pd\n",
    "\n",
    "# TODO: Set weight1, weight2, and bias\n",
    "weight1 = 0.0\n",
    "weight2 = -1.\n",
    "bias = 0.5\n",
    "\n",
    "\n",
    "# DON'T CHANGE ANYTHING BELOW\n",
    "# Inputs and outputs\n",
    "test_inputs = [(0, 0), (0, 1), (1, 0), (1, 1)]\n",
    "correct_outputs = [True, False, True, False]\n",
    "outputs = []\n",
    "\n",
    "# Generate and check output\n",
    "for test_input, correct_output in zip(test_inputs, correct_outputs):\n",
    "    linear_combination = weight1 * test_input[0] + weight2 * test_input[1] + bias\n",
    "    output = int(linear_combination >= 0)\n",
    "    is_correct_string = 'Yes' if output == correct_output else 'No'\n",
    "    outputs.append([test_input[0], test_input[1], linear_combination, output, is_correct_string])\n",
    "\n",
    "# Print output\n",
    "num_wrong = len([output[4] for output in outputs if output[4] == 'No'])\n",
    "output_frame = pd.DataFrame(outputs, columns=['Input 1', '  Input 2', '  Linear Combination', '  Activation Output', '  Is Correct'])\n",
    "if not num_wrong:\n",
    "    print('Nice!  You got it all correct.\\n')\n",
    "else:\n",
    "    print('You got {} wrong.  Keep trying!\\n'.format(num_wrong))\n",
    "print(output_frame.to_string(index=False))"
   ]
  },
  {
   "cell_type": "markdown",
   "metadata": {},
   "source": [
    "#### XOR Perceptron\n",
    "![](https://video.udacity-data.com/topher/2017/May/5912c2f1_xor/xor.png)\n",
    "##### Quiz: Build an XOR Multi-Layer Perceptron\n",
    "Now, let's build a multi-layer perceptron from the AND, NOT, and OR perceptrons to create XOR logic!\n",
    "\n",
    "The neural network below contains 3 perceptrons, A, B, and C. The last one (AND) has been given for you. The input to the neural network is from the first node. The output comes out of the last node.\n",
    "\n",
    "The multi-layer perceptron below calculates XOR. Each perceptron is a logic operation of AND, OR, and NOT. However, the perceptrons A, B, and C don't indicate their operation. In the following quiz, set the correct operations for the perceptrons to calculate XOR.\n",
    "![](https://video.udacity-data.com/topher/2017/May/59112a6b_xor-quiz/xor-quiz.png)\n",
    "\n",
    "- Answer : And if we introduce the NAND operator as the combination of AND and NOT, then we get the following two-layer perceptron that will model XOR. That's our first neural network!\n",
    "\n",
    "![](https://d17h27t6h515a5.cloudfront.net/topher/2017/May/59112cdf_xor-quiz2/xor-quiz2.png)"
   ]
  },
  {
   "cell_type": "code",
   "execution_count": null,
   "metadata": {},
   "outputs": [],
   "source": []
  }
 ],
 "metadata": {
  "kernelspec": {
   "display_name": "Python 3",
   "language": "python",
   "name": "python3"
  },
  "language_info": {
   "codemirror_mode": {
    "name": "ipython",
    "version": 3
   },
   "file_extension": ".py",
   "mimetype": "text/x-python",
   "name": "python",
   "nbconvert_exporter": "python",
   "pygments_lexer": "ipython3",
   "version": "3.7.4"
  }
 },
 "nbformat": 4,
 "nbformat_minor": 2
}
